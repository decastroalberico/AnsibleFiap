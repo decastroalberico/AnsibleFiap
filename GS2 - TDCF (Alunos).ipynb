{
 "cells": [
  {
   "cell_type": "markdown",
   "id": "58869389",
   "metadata": {},
   "source": [
    "# Introdução\n",
    "\n",
    "### Atenção: rode no Google Colab para manter as versões de biblioteca consistentes\n",
    "\n",
    "Vocês estão recebendo dois arquivos <code>.csv</code>, um com dados de treinamento e outro com dados de teste sobre diferentes ataques de rede. \n",
    "\n",
    "No dataset utilizado existem informações de diferentes conexões remotas, com dados de acessos normais e ataques. Temos 24 tipos de ataques na base (sendo que os 2 primeiros são os mais frequentes):\n",
    "\n",
    "Tipos de ataques:\n",
    "* smurf dos\n",
    "* neptune dos\n",
    "* back dos\n",
    "* buffer_overflow u2r\n",
    "* ftp_write r2l\n",
    "* guess_passwd r2l\n",
    "* imap r2l\n",
    "* ipsweep probe\n",
    "* land dos\n",
    "* loadmodule u2r\n",
    "* multihop r2l\n",
    "* nmap probe\n",
    "* perl u2r\n",
    "* phf r2l\n",
    "* pod dos\n",
    "* portsweep probe\n",
    "* rootkit u2r\n",
    "* satan probe\n",
    "* spy r2l\n",
    "* teardrop dos\n",
    "* warezclient r2l\n",
    "* warezmaster r2l\n",
    "\n",
    "Os ataques caem, no geral, em 4 categorias:\n",
    "\n",
    "* **DOS:** Negação de serviço, _p.ex._ syn flood;\n",
    "* **R2L:** Acesso não autorizado à partir de uma máquina remota, _p.ex._ guessing password;\n",
    "* **U2R:** acesso não autorizado a privilégios de superusuários locais, _p.ex._ ``buffer overflow'' attacks;\n",
    "* **probing:** monitoramento e outros tipos de ataque de sonda, _p.ex._ port scanning.\n",
    "\n",
    "São fornecidas duas bases de dados: uma de treinamento, e outra de testes. As duas bases foram pré-processadas, as variáveis categóricas foram convertidas em numéricas com _one hot encoding_ (`pd.get_dummies()`), e todos os ataques foram convertidos para uma mesma classe (ataque ou conexão normal). A partição de treinos está aproximadamente equilibrada, e não é necessário fazer um ajuste de proporção de classes. A partição de testes não possui o rótulo esperado para ser predito, e tem uma coluna completamente vazia.\n",
    "\n",
    "---------------------------------------------"
   ]
  },
  {
   "cell_type": "markdown",
   "id": "15e17d5e",
   "metadata": {},
   "source": [
    "## 1 - Criando um Firewall com ML\n",
    "\n",
    "Faça o treinamento de uma árvore de decisão, com hiper-parâmetro `max_depth=5` e `random_state=42`.\n",
    "\n",
    "Calcule a acurácia nos dados de treino (use o comando <code>modelo.score(x,y)</code>). \n",
    "\n",
    "Atenção: Você não deve separar treino e teste, já que as bases de dados já estão separadas. Entretanto você precisa separar entrada (x) e saída (y).\n",
    "\n",
    "\n",
    "A flag a ser capturada é a multiplicação dos primeiros 4 dígitos do score após a vírgula. Exemplo: 0.91134 -> flag=9x1x1x3=27."
   ]
  },
  {
   "cell_type": "code",
   "execution_count": null,
   "id": "dbeb6df4",
   "metadata": {},
   "outputs": [],
   "source": [
    "# coloque seu código aqui"
   ]
  },
  {
   "cell_type": "code",
   "execution_count": null,
   "id": "b9eca320",
   "metadata": {},
   "outputs": [],
   "source": [
    "# Dica de separação x e y\n",
    "x_train = df_train.drop(columns=['threat_type'])\n",
    "y_train = # falta alguma coisa aqui"
   ]
  },
  {
   "cell_type": "markdown",
   "id": "e22c47bd",
   "metadata": {},
   "source": [
    "## 2 - Usando o Firewall\n",
    "\n",
    "Carregue os dados de teste. Perceba que ele possui uma coluna corrompida (dados faltantes).\n",
    "\n",
    "Carregue o `reg_model.joblib` e use-o para criar uma nova coluna nos dados de teste. Essa nova coluna deve ser exatamente a coluna corrompida. Para criar essa coluna, use o `reg_model.joblib` agindo sobre a coluna `same_srv_rate`.\n",
    "\n",
    "Agora utilize o classificador do exercício 1 para classificar a base de teste corrigida.\n",
    "\n",
    "Calcule a proporção de ataques na base de teste. Faça total_ataques/total_dados. \n",
    "\n",
    "A flag será as 3 primeiras casas decimais do valor."
   ]
  },
  {
   "cell_type": "code",
   "execution_count": null,
   "id": "b1b57d22",
   "metadata": {},
   "outputs": [],
   "source": [
    "df_test.info() # Dica para descobrir coluna corrompida"
   ]
  },
  {
   "cell_type": "code",
   "execution_count": null,
   "id": "711252dc",
   "metadata": {},
   "outputs": [],
   "source": [
    "list(y_pred).count('Alguma coisa aqui') # Dica para contagem de rótulos"
   ]
  },
  {
   "cell_type": "markdown",
   "id": "7828cc5e",
   "metadata": {},
   "source": [
    "## 3 - Descobrindo os tipos de ameaças\n",
    "\n",
    "Usando os dados de treinamento, filtre para criar uma nova tabela apenas com ataques (`thread_type==attack.`).\n",
    "\n",
    "Em seguida use o AgglomerativeClustering com <code>linkage='ward'</code> para encontrar 4 grupos de ataques. \n",
    "\n",
    "\n",
    "A flag a ser capturada são os primeiros 4 dígitos do Score de Silhouette do método."
   ]
  },
  {
   "cell_type": "code",
   "execution_count": null,
   "id": "d4825ad9",
   "metadata": {},
   "outputs": [],
   "source": [
    "# Coloque seu código aqui"
   ]
  },
  {
   "cell_type": "code",
   "execution_count": null,
   "id": "eb80c9c6",
   "metadata": {},
   "outputs": [],
   "source": [
    "clustering.labels_ # Dica para pegar os valores dos clusters a serem passados para o método de silhoute"
   ]
  }
 ],
 "metadata": {
  "kernelspec": {
   "display_name": "Python 3",
   "language": "python",
   "name": "python3"
  },
  "language_info": {
   "codemirror_mode": {
    "name": "ipython",
    "version": 3
   },
   "file_extension": ".py",
   "mimetype": "text/x-python",
   "name": "python",
   "nbconvert_exporter": "python",
   "pygments_lexer": "ipython3",
   "version": "3.9.5"
  }
 },
 "nbformat": 4,
 "nbformat_minor": 5
}
